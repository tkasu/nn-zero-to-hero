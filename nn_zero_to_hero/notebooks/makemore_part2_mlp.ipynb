{
 "cells": [
  {
   "cell_type": "code",
   "execution_count": null,
   "metadata": {},
   "outputs": [],
   "source": [
    "import random\n",
    "from typing import List, Optional, Tuple\n",
    "\n",
    "import optuna\n",
    "import torch\n",
    "import torch.nn as nn\n",
    "import torch.nn.functional as F\n",
    "import matplotlib.pyplot as plt\n",
    "from torch.utils.data import Dataset, DataLoader\n",
    "from tqdm.autonotebook import tqdm\n",
    "\n",
    "%matplotlib inline"
   ]
  },
  {
   "cell_type": "code",
   "execution_count": null,
   "metadata": {},
   "outputs": [],
   "source": [
    "device = torch.device(\"cuda\" if torch.cuda.is_available() else \"cpu\")"
   ]
  },
  {
   "cell_type": "code",
   "execution_count": null,
   "metadata": {},
   "outputs": [],
   "source": [
    "words = open(\"../../data/names.txt\", \"r\").read().splitlines()\n",
    "words[:8]"
   ]
  },
  {
   "cell_type": "code",
   "execution_count": null,
   "metadata": {},
   "outputs": [],
   "source": [
    "len(words)"
   ]
  },
  {
   "cell_type": "code",
   "execution_count": null,
   "metadata": {},
   "outputs": [],
   "source": [
    "# build the vocabulary of characters and mappings to/from integers\n",
    "chars = sorted(list(set(\"\".join(words))))\n",
    "STOI = {s: i + 1 for i, s in enumerate(chars)}\n",
    "STOI[\".\"] = 0\n",
    "ITOS = {i: s for s, i in STOI.items()}\n",
    "print(ITOS)"
   ]
  },
  {
   "cell_type": "code",
   "execution_count": null,
   "metadata": {},
   "outputs": [],
   "source": [
    "class WordTokensDataset(Dataset):\n",
    "    def __init__(self, words: List[str], block_size: int):\n",
    "        X, Y = [], []\n",
    "        for w in words:\n",
    "\n",
    "            context = [0] * block_size\n",
    "            for ch in w + \".\":\n",
    "                ix = STOI[ch]\n",
    "                X.append(context)\n",
    "                Y.append(ix)\n",
    "                context = context[1:] + [ix]  # crop and append\n",
    "\n",
    "        X = torch.tensor(X)\n",
    "        Y = torch.tensor(Y)\n",
    "\n",
    "        self.X = X\n",
    "        self.Y = Y\n",
    "\n",
    "    def __getitem__(self, idx):\n",
    "        return self.X[idx], self.Y[idx]\n",
    "\n",
    "    def __len__(self):\n",
    "        return self.X.shape[0]"
   ]
  },
  {
   "cell_type": "code",
   "execution_count": null,
   "metadata": {},
   "outputs": [],
   "source": [
    "random.seed(42)\n",
    "BLOCK_SIZE = 3\n",
    "\n",
    "random.shuffle(words)\n",
    "n1 = int(0.8 * len(words))\n",
    "n2 = int(0.9 * len(words))\n",
    "\n",
    "train_dataset = WordTokensDataset(words[:n1], BLOCK_SIZE)\n",
    "validation_dataset = WordTokensDataset(words[n1:n2], BLOCK_SIZE)\n",
    "test_dataset = WordTokensDataset(words[n2:], BLOCK_SIZE)"
   ]
  },
  {
   "cell_type": "code",
   "execution_count": null,
   "metadata": {},
   "outputs": [],
   "source": [
    "train_dataset.X.shape, train_dataset.Y.shape"
   ]
  },
  {
   "cell_type": "code",
   "execution_count": null,
   "metadata": {},
   "outputs": [],
   "source": [
    "class WordTokenModel(nn.Module):\n",
    "    def __init__(\n",
    "        self,\n",
    "        token_count: int,\n",
    "        block_size: int,\n",
    "        embedding_layer_size: int,\n",
    "        hidden_layer_size: int,\n",
    "        generator: Optional[torch.Generator],\n",
    "    ):\n",
    "        super().__init__()\n",
    "\n",
    "        if not generator:\n",
    "            generator = torch.Generator()\n",
    "\n",
    "        self.token_count = token_count\n",
    "        self.block_size = block_size\n",
    "        self.embedding_layer_size = embedding_layer_size\n",
    "        self.hidden_layer_size = hidden_layer_size\n",
    "\n",
    "        self.C = nn.Parameter(\n",
    "            torch.randn((token_count, embedding_layer_size), generator=generator)\n",
    "        )\n",
    "        self.W1 = nn.Parameter(\n",
    "            torch.randn(\n",
    "                (embedding_layer_size * block_size, hidden_layer_size),\n",
    "                generator=generator,\n",
    "            )\n",
    "        )\n",
    "        self.b1 = nn.Parameter(torch.randn(hidden_layer_size, generator=generator))\n",
    "        self.W2 = nn.Parameter(\n",
    "            torch.randn((hidden_layer_size, token_count), generator=generator)\n",
    "        )\n",
    "        self.b2 = nn.Parameter(torch.randn(token_count, generator=generator))\n",
    "\n",
    "    def forward(self, X: torch.Tensor):\n",
    "        emb = self.C[X]  # (BATCH_SIZE, block_size, embedding_layer_size)\n",
    "        h = torch.tanh(\n",
    "            emb.view(-1, self.embedding_layer_size * self.block_size) @ self.W1\n",
    "            + self.b1\n",
    "        )  # (BATCH_SIZE, hidden_layer_size)\n",
    "        logits = h @ self.W2 + self.b2  # (BATCH_SIZE, token_count)\n",
    "        return logits"
   ]
  },
  {
   "cell_type": "code",
   "execution_count": null,
   "metadata": {},
   "outputs": [],
   "source": [
    "model = WordTokenModel(\n",
    "    token_count=len(STOI),\n",
    "    block_size=BLOCK_SIZE,\n",
    "    embedding_layer_size=10,\n",
    "    hidden_layer_size=200,\n",
    "    generator=torch.Generator().manual_seed(2147483647),\n",
    ").to(device)"
   ]
  },
  {
   "cell_type": "code",
   "execution_count": null,
   "metadata": {},
   "outputs": [],
   "source": [
    "class StepBasedLrGDOptimizer(torch.optim.Optimizer):\n",
    "    def __init__(self, params, max_step_to_lr: List[Tuple[Optional[int], float]]):\n",
    "        defaults = dict(max_epoch_to_lr=max_step_to_lr)\n",
    "        super(StepBasedLrGDOptimizer, self).__init__(params, defaults)\n",
    "        self.state = {\"step\": 0}\n",
    "\n",
    "    def step(self):\n",
    "        step = self.state[\"step\"]\n",
    "\n",
    "        for group in self.param_groups:\n",
    "            lr = next(\n",
    "                lr\n",
    "                for max_epoch, lr in group[\"max_epoch_to_lr\"]\n",
    "                if max_epoch is None or step < max_epoch\n",
    "            )\n",
    "\n",
    "            for p in group[\"params\"]:\n",
    "                if p.grad is None:\n",
    "                    raise ValueError(\"Invalid None gradient\")\n",
    "                p.data.add_(-lr * p.grad.data)\n",
    "\n",
    "        self.state[\"step\"] += 1"
   ]
  },
  {
   "cell_type": "code",
   "execution_count": null,
   "metadata": {},
   "outputs": [],
   "source": [
    "def train_model(\n",
    "    model: WordTokenModel,\n",
    "    dataset: Dataset,\n",
    "    optimizer: torch.optim.Optimizer,\n",
    "    epochs: int,\n",
    "    batch_size: int,\n",
    ") -> Tuple[List[int], List[float]]:\n",
    "    model.train()\n",
    "\n",
    "    dataloader = DataLoader(\n",
    "        dataset, batch_size=batch_size, shuffle=True, pin_memory=True\n",
    "    )\n",
    "\n",
    "    lossi = []\n",
    "    stepi = []\n",
    "\n",
    "    for epoch in tqdm(range(epochs)):\n",
    "        for X_batch, Y_batch in dataloader:\n",
    "\n",
    "            X_batch = X_batch.to(device)\n",
    "            Y_batch = Y_batch.to(device)\n",
    "\n",
    "            logits = model.forward(X_batch)\n",
    "            loss = F.cross_entropy(logits, Y_batch)\n",
    "\n",
    "            optimizer.zero_grad()\n",
    "            loss.backward()\n",
    "            optimizer.step()\n",
    "\n",
    "        # track stats\n",
    "        stepi.append(epoch)\n",
    "        lossi.append(loss.log10().item())\n",
    "\n",
    "    return stepi, lossi"
   ]
  },
  {
   "cell_type": "code",
   "execution_count": null,
   "metadata": {},
   "outputs": [],
   "source": [
    "BATCH_SIZE = 512 if device == torch.device(\"cuda\") else 32\n",
    "TOTAL_SAMPLES_TO_TRAIN = 20_000_000 if device == torch.device(\"cuda\") else 5_000_000\n",
    "EPOCHS = TOTAL_SAMPLES_TO_TRAIN // len(train_dataset)\n",
    "BATCHES_BY_EPOCH = len(train_dataset) // BATCH_SIZE"
   ]
  },
  {
   "cell_type": "code",
   "execution_count": null,
   "metadata": {},
   "outputs": [],
   "source": [
    "optimizer = StepBasedLrGDOptimizer(\n",
    "    model.parameters(),\n",
    "    max_step_to_lr=[\n",
    "        (BATCHES_BY_EPOCH * EPOCHS * 0.5, 0.1),\n",
    "        (BATCHES_BY_EPOCH * EPOCHS * 0.75, 0.01),\n",
    "        (None, 0.001),\n",
    "    ],\n",
    ")\n",
    "\n",
    "stepi, lossi = train_model(\n",
    "    model=model,\n",
    "    dataset=train_dataset,\n",
    "    optimizer=optimizer,\n",
    "    epochs=EPOCHS,\n",
    "    batch_size=BATCH_SIZE,\n",
    ")"
   ]
  },
  {
   "cell_type": "code",
   "execution_count": null,
   "metadata": {},
   "outputs": [],
   "source": [
    "plt.plot(stepi, lossi)"
   ]
  },
  {
   "cell_type": "code",
   "execution_count": null,
   "metadata": {},
   "outputs": [],
   "source": [
    "def calculate_loss(model: WordTokenModel, dataset: WordTokensDataset):\n",
    "    X, Y = dataset.X, dataset.Y\n",
    "    X = X.to(device)\n",
    "    Y = Y.to(device)\n",
    "    logits = model.forward(X)\n",
    "    loss = F.cross_entropy(logits, Y)\n",
    "    return loss.item()"
   ]
  },
  {
   "cell_type": "code",
   "execution_count": null,
   "metadata": {},
   "outputs": [],
   "source": [
    "training_loss = calculate_loss(model, train_dataset)\n",
    "validation_loss = calculate_loss(model, validation_dataset)\n",
    "print(f\"{training_loss = :4f}, {validation_loss = :4f}\")"
   ]
  },
  {
   "cell_type": "code",
   "execution_count": null,
   "metadata": {},
   "outputs": [],
   "source": [
    "# visualize dimensions 0 and 1 of the embedding matrix C for all characters\n",
    "C_cpu = model.C.cpu()\n",
    "\n",
    "plt.figure(figsize=(8, 8))\n",
    "plt.scatter(C_cpu[:, 0].data, C_cpu[:, 1].data, s=200)\n",
    "for i in range(C_cpu.shape[0]):\n",
    "    plt.text(\n",
    "        C_cpu[i, 0].item(),\n",
    "        C_cpu[i, 1].item(),\n",
    "        ITOS[i],\n",
    "        ha=\"center\",\n",
    "        va=\"center\",\n",
    "        color=\"white\",\n",
    "    )\n",
    "plt.grid(\"minor\")"
   ]
  },
  {
   "cell_type": "code",
   "execution_count": null,
   "metadata": {},
   "outputs": [],
   "source": [
    "# sample from the model\n",
    "g = torch.Generator(device).manual_seed(2147483647 + 10)\n",
    "\n",
    "for _ in range(20):\n",
    "\n",
    "    out = []\n",
    "    context = [0] * BLOCK_SIZE  # initialize with all ...\n",
    "    while True:\n",
    "        logits = model.forward(torch.tensor([context], device=device))\n",
    "        probs = F.softmax(logits, dim=1)\n",
    "        ix = torch.multinomial(probs, num_samples=1, generator=g).item()\n",
    "        context = context[1:] + [ix]\n",
    "        out.append(ix)\n",
    "        if ix == 0:\n",
    "            break\n",
    "\n",
    "    print(\"\".join(ITOS[i] for i in out))"
   ]
  },
  {
   "cell_type": "markdown",
   "metadata": {},
   "source": [
    "### Hyperparameter tuning"
   ]
  },
  {
   "cell_type": "code",
   "execution_count": null,
   "metadata": {},
   "outputs": [],
   "source": [
    "def objective(trial: optuna.Trial) -> float:\n",
    "    n_embedding_layer_size = trial.suggest_int(\"embedding_layer_size\", 2, 15)\n",
    "    n_hidden_layer_size = trial.suggest_int(\"hidden_layer_size\", 100, 500)\n",
    "    n_lr_start = trial.suggest_float(\"lr\", 1e-2, 1e-1)\n",
    "\n",
    "    model = WordTokenModel(\n",
    "        token_count=len(STOI),\n",
    "        block_size=BLOCK_SIZE,\n",
    "        embedding_layer_size=n_embedding_layer_size,\n",
    "        hidden_layer_size=n_hidden_layer_size,\n",
    "        generator=torch.Generator().manual_seed(2147483647),\n",
    "    ).to(device)\n",
    "\n",
    "    optimizer = StepBasedLrGDOptimizer(\n",
    "        model.parameters(),\n",
    "        max_step_to_lr=[\n",
    "            (BATCHES_BY_EPOCH * EPOCHS * 0.5, n_lr_start),\n",
    "            (BATCHES_BY_EPOCH * EPOCHS * 0.75, n_lr_start * 0.1),\n",
    "            (None, n_lr_start * 0.01),\n",
    "        ],\n",
    "    )\n",
    "\n",
    "    train_model(\n",
    "        model=model,\n",
    "        dataset=train_dataset,\n",
    "        optimizer=optimizer,\n",
    "        epochs=EPOCHS,\n",
    "        batch_size=BATCH_SIZE,\n",
    "    )\n",
    "\n",
    "    validation_loss = calculate_loss(model, validation_dataset)\n",
    "    return validation_loss"
   ]
  },
  {
   "cell_type": "code",
   "execution_count": null,
   "metadata": {},
   "outputs": [],
   "source": [
    "study = optuna.create_study(direction=\"minimize\")\n",
    "study.optimize(objective, n_trials=15)\n",
    "\n",
    "trial = study.best_trial\n",
    "\n",
    "print(f\"Loss: {trial.value}\")\n",
    "print(f\"Best hyperparameters: {trial.params}\")"
   ]
  },
  {
   "cell_type": "code",
   "execution_count": null,
   "metadata": {},
   "outputs": [],
   "source": [
    "n_embedding_layer_size = trial.params[\"embedding_layer_size\"]\n",
    "n_hidden_layer_size = trial.params[\"hidden_layer_size\"]\n",
    "n_lr_start = trial.params[\"lr\"]\n",
    "\n",
    "model = WordTokenModel(\n",
    "    token_count=len(STOI),\n",
    "    block_size=BLOCK_SIZE,\n",
    "    embedding_layer_size=n_embedding_layer_size,\n",
    "    hidden_layer_size=n_hidden_layer_size,\n",
    "    generator=torch.Generator().manual_seed(2147483647),\n",
    ").to(device)\n",
    "\n",
    "optimizer = StepBasedLrGDOptimizer(\n",
    "    model.parameters(),\n",
    "    max_step_to_lr=[\n",
    "        (BATCHES_BY_EPOCH * EPOCHS * 0.5, n_lr_start),\n",
    "        (BATCHES_BY_EPOCH * EPOCHS * 0.75, n_lr_start * 0.1),\n",
    "        (None, n_lr_start * 0.01),\n",
    "    ],\n",
    ")\n",
    "\n",
    "_ = train_model(\n",
    "    model=model,\n",
    "    dataset=train_dataset,\n",
    "    optimizer=optimizer,\n",
    "    epochs=EPOCHS * 3,  # Train the final model a bit more\n",
    "    batch_size=BATCH_SIZE,\n",
    ")"
   ]
  },
  {
   "cell_type": "code",
   "execution_count": null,
   "metadata": {},
   "outputs": [],
   "source": [
    "training_loss = calculate_loss(model, train_dataset)\n",
    "validation_loss = calculate_loss(model, validation_dataset)\n",
    "test_loss = calculate_loss(model, test_dataset)\n",
    "print(f\"{training_loss = :4f}, {validation_loss = :4f}, {test_loss = :4f}\")"
   ]
  },
  {
   "cell_type": "code",
   "execution_count": null,
   "metadata": {},
   "outputs": [],
   "source": []
  }
 ],
 "metadata": {
  "kernelspec": {
   "display_name": "Python 3",
   "language": "python",
   "name": "python3"
  },
  "language_info": {
   "codemirror_mode": {
    "name": "ipython",
    "version": 3
   },
   "file_extension": ".py",
   "mimetype": "text/x-python",
   "name": "python",
   "nbconvert_exporter": "python",
   "pygments_lexer": "ipython3",
   "version": "3.11.5"
  }
 },
 "nbformat": 4,
 "nbformat_minor": 4
}
