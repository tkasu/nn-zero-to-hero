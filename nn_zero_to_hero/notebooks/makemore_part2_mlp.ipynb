{
 "cells": [
  {
   "cell_type": "code",
   "execution_count": null,
   "metadata": {},
   "outputs": [],
   "source": [
    "import random\n",
    "from typing import List, Optional\n",
    "\n",
    "import torch\n",
    "import torch.nn as nn\n",
    "import torch.nn.functional as F\n",
    "import matplotlib.pyplot as plt\n",
    "from torch.utils.data import Dataset, DataLoader\n",
    "from tqdm.autonotebook import tqdm\n",
    "\n",
    "%matplotlib inline"
   ]
  },
  {
   "cell_type": "code",
   "execution_count": null,
   "metadata": {},
   "outputs": [],
   "source": [
    "device = torch.device(\"cuda\" if torch.cuda.is_available() else \"cpu\")"
   ]
  },
  {
   "cell_type": "code",
   "execution_count": null,
   "metadata": {},
   "outputs": [],
   "source": [
    "words = open(\"../../data/names.txt\", \"r\").read().splitlines()\n",
    "words[:8]"
   ]
  },
  {
   "cell_type": "code",
   "execution_count": null,
   "metadata": {},
   "outputs": [],
   "source": [
    "len(words)"
   ]
  },
  {
   "cell_type": "code",
   "execution_count": null,
   "metadata": {},
   "outputs": [],
   "source": [
    "# build the vocabulary of characters and mappings to/from integers\n",
    "chars = sorted(list(set(\"\".join(words))))\n",
    "stoi = {s: i + 1 for i, s in enumerate(chars)}\n",
    "stoi[\".\"] = 0\n",
    "itos = {i: s for s, i in stoi.items()}\n",
    "print(itos)"
   ]
  },
  {
   "cell_type": "code",
   "execution_count": null,
   "metadata": {},
   "outputs": [],
   "source": [
    "class WordTokensDataset(Dataset):\n",
    "    def __init__(self, words: List[str], block_size: int):\n",
    "        X, Y = [], []\n",
    "        for w in words:\n",
    "\n",
    "            context = [0] * block_size\n",
    "            for ch in w + \".\":\n",
    "                ix = stoi[ch]\n",
    "                X.append(context)\n",
    "                Y.append(ix)\n",
    "                context = context[1:] + [ix]  # crop and append\n",
    "\n",
    "        X = torch.tensor(X)\n",
    "        Y = torch.tensor(Y)\n",
    "\n",
    "        self.X = X\n",
    "        self.Y = Y\n",
    "\n",
    "    def __getitem__(self, idx):\n",
    "        return self.X[idx], self.Y[idx]\n",
    "\n",
    "    def __len__(self):\n",
    "        return self.X.shape[0]"
   ]
  },
  {
   "cell_type": "code",
   "execution_count": null,
   "metadata": {},
   "outputs": [],
   "source": [
    "random.seed(42)\n",
    "block_size = 3\n",
    "\n",
    "random.shuffle(words)\n",
    "n1 = int(0.8 * len(words))\n",
    "n2 = int(0.9 * len(words))\n",
    "\n",
    "train_dataset = WordTokensDataset(words[:n1], block_size)\n",
    "validation_dataset = WordTokensDataset(words[n1:n2], block_size)\n",
    "test_dataset = WordTokensDataset(words[n2:], block_size)"
   ]
  },
  {
   "cell_type": "code",
   "execution_count": null,
   "metadata": {},
   "outputs": [],
   "source": [
    "train_dataset.X.shape, train_dataset.Y.shape"
   ]
  },
  {
   "cell_type": "code",
   "execution_count": null,
   "metadata": {},
   "outputs": [],
   "source": [
    "class WordTokenModel(nn.Module):\n",
    "    def __init__(\n",
    "        self,\n",
    "        token_count: int,\n",
    "        block_size: int,\n",
    "        embedding_layer_size: int,\n",
    "        hidden_layer_size: int,\n",
    "        generator: Optional[torch.Generator],\n",
    "    ):\n",
    "        super().__init__()\n",
    "\n",
    "        if not generator:\n",
    "            generator = torch.Generator()\n",
    "\n",
    "        self.C = nn.Parameter(\n",
    "            torch.randn((token_count, embedding_layer_size), generator=generator)\n",
    "        )\n",
    "        self.W1 = nn.Parameter(\n",
    "            torch.randn(\n",
    "                (embedding_layer_size * block_size, hidden_layer_size),\n",
    "                generator=generator,\n",
    "            )\n",
    "        )\n",
    "        self.b1 = nn.Parameter(torch.randn(hidden_layer_size, generator=generator))\n",
    "        self.W2 = nn.Parameter(\n",
    "            torch.randn((hidden_layer_size, token_count), generator=generator)\n",
    "        )\n",
    "        self.b2 = nn.Parameter(torch.randn(token_count, generator=generator))\n",
    "\n",
    "    def forward(self, X: torch.Tensor):\n",
    "        emb = self.C[X]  # (BATCH_SIZE, block_size, embedding_layer_size)\n",
    "        h = torch.tanh(\n",
    "            emb.view(-1, 30) @ self.W1 + self.b1\n",
    "        )  # (BATCH_SIZE, hidden_layer_size)\n",
    "        logits = h @ self.W2 + self.b2  # (BATCH_SIZE, token_count)\n",
    "        return logits"
   ]
  },
  {
   "cell_type": "code",
   "execution_count": null,
   "metadata": {},
   "outputs": [],
   "source": [
    "model = WordTokenModel(\n",
    "    token_count=len(stoi),\n",
    "    block_size=block_size,\n",
    "    embedding_layer_size=10,\n",
    "    hidden_layer_size=200,\n",
    "    generator=torch.Generator().manual_seed(2147483647),\n",
    ").to(device)"
   ]
  },
  {
   "cell_type": "code",
   "execution_count": null,
   "metadata": {},
   "outputs": [],
   "source": [
    "BATCH_SIZE = 512 if device == torch.device(\"cuda\") else 32\n",
    "TOTAL_SAMPLES_TO_TRAIN = 40_000_000 if device == torch.device(\"cuda\") else 5_000_000\n",
    "EPOCHS = TOTAL_SAMPLES_TO_TRAIN // len(train_dataset)\n",
    "\n",
    "train_dataloader = DataLoader(\n",
    "    train_dataset, batch_size=BATCH_SIZE, shuffle=True, pin_memory=True\n",
    ")\n",
    "\n",
    "lossi = []\n",
    "stepi = []\n",
    "\n",
    "\n",
    "for epoch in tqdm(range(EPOCHS)):\n",
    "    for X_batch, Y_batch in train_dataloader:\n",
    "\n",
    "        X_batch = X_batch.to(device)\n",
    "        Y_batch = Y_batch.to(device)\n",
    "\n",
    "        logits = model.forward(X_batch)\n",
    "        loss = F.cross_entropy(logits, Y_batch)\n",
    "        # print(loss.item())\n",
    "\n",
    "        # backward pass\n",
    "        for p in model.parameters():\n",
    "            p.grad = None\n",
    "        loss.backward()\n",
    "\n",
    "        # update\n",
    "        lr = 0.1 if epoch < EPOCHS * 0.5 else 0.01\n",
    "        for p in model.parameters():\n",
    "            p.data += -lr * p.grad\n",
    "\n",
    "    # track stats\n",
    "    stepi.append(epoch)\n",
    "    lossi.append(loss.log10().item())"
   ]
  },
  {
   "cell_type": "code",
   "execution_count": null,
   "metadata": {},
   "outputs": [],
   "source": [
    "plt.plot(stepi, lossi)"
   ]
  },
  {
   "cell_type": "code",
   "execution_count": null,
   "metadata": {},
   "outputs": [],
   "source": [
    "def calculate_loss(model: WordTokenModel, dataset: WordTokensDataset):\n",
    "    X, Y = dataset.X, dataset.Y\n",
    "    X = X.to(device)\n",
    "    Y = Y.to(device)\n",
    "    logits = model.forward(X)\n",
    "    loss = F.cross_entropy(logits, Y)\n",
    "    return loss.item()"
   ]
  },
  {
   "cell_type": "code",
   "execution_count": null,
   "metadata": {},
   "outputs": [],
   "source": [
    "training_loss = calculate_loss(model, train_dataset)\n",
    "validation_loss = calculate_loss(model, validation_dataset)\n",
    "print(f\"{training_loss = :4f}, {validation_loss = :4f}\")"
   ]
  },
  {
   "cell_type": "code",
   "execution_count": null,
   "metadata": {},
   "outputs": [],
   "source": [
    "# visualize dimensions 0 and 1 of the embedding matrix C for all characters\n",
    "C_cpu = model.C.cpu()\n",
    "\n",
    "plt.figure(figsize=(8, 8))\n",
    "plt.scatter(C_cpu[:, 0].data, C_cpu[:, 1].data, s=200)\n",
    "for i in range(C_cpu.shape[0]):\n",
    "    plt.text(\n",
    "        C_cpu[i, 0].item(),\n",
    "        C_cpu[i, 1].item(),\n",
    "        itos[i],\n",
    "        ha=\"center\",\n",
    "        va=\"center\",\n",
    "        color=\"white\",\n",
    "    )\n",
    "plt.grid(\"minor\")"
   ]
  },
  {
   "cell_type": "code",
   "execution_count": null,
   "metadata": {},
   "outputs": [],
   "source": [
    "# sample from the model\n",
    "g = torch.Generator(device).manual_seed(2147483647 + 10)\n",
    "\n",
    "for _ in range(20):\n",
    "\n",
    "    out = []\n",
    "    context = [0] * block_size  # initialize with all ...\n",
    "    while True:\n",
    "        logits = model.forward(torch.tensor([context], device=device))\n",
    "        probs = F.softmax(logits, dim=1)\n",
    "        ix = torch.multinomial(probs, num_samples=1, generator=g).item()\n",
    "        context = context[1:] + [ix]\n",
    "        out.append(ix)\n",
    "        if ix == 0:\n",
    "            break\n",
    "\n",
    "    print(\"\".join(itos[i] for i in out))"
   ]
  }
 ],
 "metadata": {
  "kernelspec": {
   "display_name": "Python 3",
   "language": "python",
   "name": "python3"
  },
  "language_info": {
   "codemirror_mode": {
    "name": "ipython",
    "version": 3
   },
   "file_extension": ".py",
   "mimetype": "text/x-python",
   "name": "python",
   "nbconvert_exporter": "python",
   "pygments_lexer": "ipython3",
   "version": "3.11.5"
  }
 },
 "nbformat": 4,
 "nbformat_minor": 4
}
