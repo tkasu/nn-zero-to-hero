{
 "cells": [
  {
   "cell_type": "code",
   "execution_count": null,
   "metadata": {},
   "outputs": [],
   "source": [
    "import math\n",
    "import os\n",
    "import random\n",
    "from datetime import datetime\n",
    "from typing import List, Optional, Tuple\n",
    "\n",
    "import optuna\n",
    "import torch\n",
    "import torch.nn.functional as F\n",
    "import matplotlib.pyplot as plt\n",
    "from torch.utils.data import Dataset, DataLoader\n",
    "from tqdm.autonotebook import tqdm\n",
    "\n",
    "from nn_zero_to_hero.datasets import WordTokensDataset\n",
    "from nn_zero_to_hero.loss import calculate_loss\n",
    "from nn_zero_to_hero.models import WordTokenModel\n",
    "from nn_zero_to_hero.optimizers import StepBasedLrGDOptimizer\n",
    "from nn_zero_to_hero.tokens import sample_from_model, tokens_to_int_mapping\n",
    "from nn_zero_to_hero.vizs import plot_embeddings\n",
    "\n",
    "%matplotlib inline"
   ]
  },
  {
   "cell_type": "code",
   "execution_count": null,
   "metadata": {},
   "outputs": [],
   "source": [
    "BLOCK_SIZE = 3"
   ]
  },
  {
   "cell_type": "code",
   "execution_count": null,
   "metadata": {},
   "outputs": [],
   "source": [
    "device = torch.device(\"cuda\" if torch.cuda.is_available() else \"cpu\")"
   ]
  },
  {
   "cell_type": "code",
   "execution_count": null,
   "metadata": {},
   "outputs": [],
   "source": [
    "words = open(\"../../data/names.txt\", \"r\").read().splitlines()\n",
    "words[:8]"
   ]
  },
  {
   "cell_type": "code",
   "execution_count": null,
   "metadata": {},
   "outputs": [],
   "source": [
    "len(words)"
   ]
  },
  {
   "cell_type": "code",
   "execution_count": null,
   "metadata": {},
   "outputs": [],
   "source": [
    "# build the vocabulary of characters and mappings to/from integers\n",
    "chars = sorted(list(set(\"\".join(words))))\n",
    "STOI, ITOS = tokens_to_int_mapping(chars)\n",
    "\n",
    "print(ITOS)"
   ]
  },
  {
   "cell_type": "code",
   "execution_count": null,
   "metadata": {},
   "outputs": [],
   "source": [
    "random.seed(42)\n",
    "\n",
    "random.shuffle(words)\n",
    "n1 = int(0.8 * len(words))\n",
    "n2 = int(0.9 * len(words))\n",
    "\n",
    "train_dataset = WordTokensDataset(words[:n1], BLOCK_SIZE, STOI)\n",
    "validation_dataset = WordTokensDataset(words[n1:n2], BLOCK_SIZE, STOI)\n",
    "test_dataset = WordTokensDataset(words[n2:], BLOCK_SIZE, STOI)"
   ]
  },
  {
   "cell_type": "code",
   "execution_count": null,
   "metadata": {},
   "outputs": [],
   "source": [
    "train_dataset.X.shape, train_dataset.Y.shape"
   ]
  },
  {
   "cell_type": "code",
   "execution_count": null,
   "metadata": {},
   "outputs": [],
   "source": [
    "model = WordTokenModel(\n",
    "    token_count=len(STOI),\n",
    "    block_size=BLOCK_SIZE,\n",
    "    embedding_layer_size=5,\n",
    "    hidden_layer_size=100,\n",
    "    generator=torch.Generator().manual_seed(2147483647),\n",
    ").to(device)"
   ]
  },
  {
   "cell_type": "code",
   "execution_count": null,
   "metadata": {},
   "outputs": [],
   "source": [
    "def train_model(\n",
    "    model: WordTokenModel,\n",
    "    dataset: Dataset,\n",
    "    optimizer: torch.optim.Optimizer,\n",
    "    epochs: int,\n",
    "    batch_size: int,\n",
    "    *,\n",
    "    trial: Optional[optuna.Trial] = None,\n",
    ") -> Tuple[List[int], List[float]]:\n",
    "    model.train()\n",
    "\n",
    "    dataloader = DataLoader(\n",
    "        dataset, batch_size=batch_size, shuffle=True, pin_memory=True\n",
    "    )\n",
    "\n",
    "    lossi = []\n",
    "    stepi = []\n",
    "\n",
    "    for epoch in tqdm(range(epochs), leave=False):\n",
    "        epoch_loss_sum = 0.0\n",
    "        for X_batch, Y_batch in dataloader:\n",
    "\n",
    "            X_batch = X_batch.to(device)\n",
    "            Y_batch = Y_batch.to(device)\n",
    "\n",
    "            logits = model.forward(X_batch)\n",
    "            loss = F.cross_entropy(logits, Y_batch)\n",
    "            epoch_loss_sum += loss.item()\n",
    "\n",
    "            optimizer.zero_grad()\n",
    "            loss.backward()\n",
    "            optimizer.step()\n",
    "\n",
    "        # track stats\n",
    "        # TODO: Add validation loss\n",
    "        stepi.append(epoch)\n",
    "        average_loss = epoch_loss_sum / (epoch + 1)\n",
    "        lossi.append(math.log10(average_loss))\n",
    "        if trial:\n",
    "            trial.report(average_loss, step=epoch)\n",
    "\n",
    "    return stepi, lossi"
   ]
  },
  {
   "cell_type": "code",
   "execution_count": null,
   "metadata": {},
   "outputs": [],
   "source": [
    "batch_size = 32\n",
    "epochs = 50\n",
    "\n",
    "batches_by_epoch = len(train_dataset) // batch_size\n",
    "optimizer = StepBasedLrGDOptimizer(\n",
    "    model.parameters(),\n",
    "    max_step_to_lr=[\n",
    "        (batches_by_epoch * epochs * 0.5, 0.1),\n",
    "        (batches_by_epoch * epochs * 0.75, 0.01),\n",
    "        (None, 0.001),\n",
    "    ],\n",
    ")\n",
    "\n",
    "stepi, lossi = train_model(\n",
    "    model=model,\n",
    "    dataset=train_dataset,\n",
    "    optimizer=optimizer,\n",
    "    epochs=epochs,\n",
    "    batch_size=batch_size,\n",
    ")"
   ]
  },
  {
   "cell_type": "code",
   "execution_count": null,
   "metadata": {},
   "outputs": [],
   "source": [
    "plt.plot(stepi, lossi)"
   ]
  },
  {
   "cell_type": "code",
   "execution_count": null,
   "metadata": {},
   "outputs": [],
   "source": [
    "training_loss = calculate_loss(model, train_dataset, F.cross_entropy, device)\n",
    "validation_loss = calculate_loss(model, validation_dataset, F.cross_entropy, device)\n",
    "print(f\"{training_loss = :4f}, {validation_loss = :4f}\")"
   ]
  },
  {
   "cell_type": "code",
   "execution_count": null,
   "metadata": {},
   "outputs": [],
   "source": [
    "plot_embeddings(model.C, ITOS)"
   ]
  },
  {
   "cell_type": "code",
   "execution_count": null,
   "metadata": {},
   "outputs": [],
   "source": [
    "# sample from the model\n",
    "g = torch.Generator(device).manual_seed(2147483647 + 10)\n",
    "\n",
    "for _ in range(20):\n",
    "    s = sample_from_model(\n",
    "        model,\n",
    "        block_size=BLOCK_SIZE,\n",
    "        device=device,\n",
    "        itos=ITOS,\n",
    "        generator=g,\n",
    "    )\n",
    "    print(s)"
   ]
  },
  {
   "cell_type": "markdown",
   "metadata": {},
   "source": [
    "### Hyperparameter tuning"
   ]
  },
  {
   "cell_type": "code",
   "execution_count": null,
   "metadata": {},
   "outputs": [],
   "source": [
    "epochs = 50 if device == torch.device(\"cuda\") else 20\n",
    "\n",
    "\n",
    "def objective(trial: optuna.Trial) -> float:\n",
    "\n",
    "    n_embedding_layer_size = trial.suggest_int(\"embedding_layer_size\", 2, 15)\n",
    "    n_hidden_layer_size = trial.suggest_int(\"hidden_layer_size\", 100, 500, step=50)\n",
    "    n_lr_start = trial.suggest_float(\"lr\", 1e-2, 1e-1, step=1e-2)\n",
    "    batch_size = trial.suggest_int(\"batch_size\", 32, 512, step=32)\n",
    "\n",
    "    batches_by_epoch = len(train_dataset) // batch_size\n",
    "\n",
    "    model = WordTokenModel(\n",
    "        token_count=len(STOI),\n",
    "        block_size=BLOCK_SIZE,\n",
    "        embedding_layer_size=n_embedding_layer_size,\n",
    "        hidden_layer_size=n_hidden_layer_size,\n",
    "        generator=torch.Generator().manual_seed(2147483647),\n",
    "    ).to(device)\n",
    "\n",
    "    optimizer = StepBasedLrGDOptimizer(\n",
    "        model.parameters(),\n",
    "        max_step_to_lr=[\n",
    "            (batches_by_epoch * epochs * 0.5, n_lr_start),\n",
    "            (batches_by_epoch * epochs * 0.75, n_lr_start * 0.1),\n",
    "            (None, n_lr_start * 0.01),\n",
    "        ],\n",
    "    )\n",
    "\n",
    "    train_model(\n",
    "        model=model,\n",
    "        dataset=train_dataset,\n",
    "        optimizer=optimizer,\n",
    "        epochs=epochs,\n",
    "        batch_size=batch_size,\n",
    "        trial=trial,\n",
    "    )\n",
    "\n",
    "    validation_loss = calculate_loss(model, validation_dataset)\n",
    "    return validation_loss"
   ]
  },
  {
   "cell_type": "code",
   "execution_count": null,
   "metadata": {},
   "outputs": [],
   "source": [
    "db_file_path = os.path.abspath(\"../../optuna_db/db.sqlite3\")\n",
    "current_dt_iso = datetime.now().isoformat()\n",
    "\n",
    "study = optuna.create_study(\n",
    "    direction=\"minimize\",\n",
    "    storage=f\"sqlite:///{db_file_path}\",\n",
    "    study_name=f\"makemore-part2-{current_dt_iso}\",\n",
    ")\n",
    "study.optimize(objective, n_trials=5)\n",
    "\n",
    "trial = study.best_trial\n",
    "\n",
    "print(f\"Loss: {trial.value}\")\n",
    "print(f\"Best hyperparameters: {trial.params}\")"
   ]
  },
  {
   "cell_type": "code",
   "execution_count": null,
   "metadata": {},
   "outputs": [],
   "source": [
    "# Loss: 2.1235523223876953\n",
    "# Best hyperparameters: {'embedding_layer_size': 15, 'hidden_layer_size': 350, 'lr': 0.09999999999999999, 'batch_size': 32}\n",
    "\n",
    "n_embedding_layer_size = trial.params[\"embedding_layer_size\"]\n",
    "n_hidden_layer_size = trial.params[\"hidden_layer_size\"]\n",
    "n_lr_start = trial.params[\"lr\"]\n",
    "batch_size = trial.params[\"batch_size\"]\n",
    "\n",
    "epochs = 500\n",
    "batches_by_epoch = len(train_dataset) // batch_size\n",
    "\n",
    "model = WordTokenModel(\n",
    "    token_count=len(STOI),\n",
    "    block_size=BLOCK_SIZE,\n",
    "    embedding_layer_size=n_embedding_layer_size,\n",
    "    hidden_layer_size=n_hidden_layer_size,\n",
    "    generator=torch.Generator().manual_seed(2147483647),\n",
    ").to(device)\n",
    "\n",
    "optimizer = StepBasedLrGDOptimizer(\n",
    "    model.parameters(),\n",
    "    max_step_to_lr=[\n",
    "        (batches_by_epoch * epochs * 0.2, n_lr_start),\n",
    "        (batches_by_epoch * epochs * 0.3, n_lr_start * 0.1),\n",
    "        (None, n_lr_start * 0.01),\n",
    "    ],\n",
    ")\n",
    "\n",
    "_ = train_model(\n",
    "    model=model,\n",
    "    dataset=train_dataset,\n",
    "    optimizer=optimizer,\n",
    "    epochs=epochs,\n",
    "    batch_size=batch_size,\n",
    ")"
   ]
  },
  {
   "cell_type": "code",
   "execution_count": null,
   "metadata": {},
   "outputs": [],
   "source": [
    "training_loss = calculate_loss(model, train_dataset, F.cross_entropy, device)\n",
    "validation_loss = calculate_loss(model, validation_dataset, F.cross_entropy, device)\n",
    "test_loss = calculate_loss(model, test_dataset, F.cross_entropy, device)\n",
    "print(f\"{training_loss = :4f}, {validation_loss = :4f}, {test_loss = :4f}\")\n",
    "# training_loss = 1.984158, validation_loss = 2.121833, test_loss = 2.122970"
   ]
  },
  {
   "cell_type": "code",
   "execution_count": null,
   "metadata": {},
   "outputs": [],
   "source": []
  }
 ],
 "metadata": {
  "kernelspec": {
   "display_name": "Python 3",
   "language": "python",
   "name": "python3"
  },
  "language_info": {
   "codemirror_mode": {
    "name": "ipython",
    "version": 3
   },
   "file_extension": ".py",
   "mimetype": "text/x-python",
   "name": "python",
   "nbconvert_exporter": "python",
   "pygments_lexer": "ipython3",
   "version": "3.11.5"
  }
 },
 "nbformat": 4,
 "nbformat_minor": 4
}
