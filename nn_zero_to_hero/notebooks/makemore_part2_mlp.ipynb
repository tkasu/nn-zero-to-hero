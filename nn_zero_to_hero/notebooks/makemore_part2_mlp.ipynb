{
 "cells": [
  {
   "cell_type": "code",
   "execution_count": null,
   "metadata": {},
   "outputs": [],
   "source": [
    "import random\n",
    "\n",
    "import torch\n",
    "import torch.nn.functional as F\n",
    "import numpy as np\n",
    "import matplotlib.pyplot as plt\n",
    "\n",
    "from nn_zero_to_hero.datasets import WordTokensDataset\n",
    "from nn_zero_to_hero.loss import calculate_loss\n",
    "from nn_zero_to_hero.models import WordTokenModel\n",
    "from nn_zero_to_hero.optimizers import StepBasedLrGDOptimizer\n",
    "from nn_zero_to_hero.tokens import sample_from_model, tokens_to_int_mapping\n",
    "from nn_zero_to_hero.trainers import train_model_simple\n",
    "from nn_zero_to_hero.vizs import plot_embeddings\n",
    "\n",
    "%load_ext autoreload\n",
    "%autoreload 2\n",
    "%matplotlib inline"
   ]
  },
  {
   "cell_type": "code",
   "execution_count": null,
   "metadata": {},
   "outputs": [],
   "source": [
    "BLOCK_SIZE = 3\n",
    "device = torch.device(\"cuda\" if torch.cuda.is_available() else \"cpu\")"
   ]
  },
  {
   "cell_type": "code",
   "execution_count": null,
   "metadata": {},
   "outputs": [],
   "source": [
    "words = open(\"../../data/names.txt\", \"r\").read().splitlines()\n",
    "# words = [w.lower() for w in  open(\"../../data/names_finnish.txt\", \"r\").read().splitlines() if \".\" not in w]\n",
    "words[:8]"
   ]
  },
  {
   "cell_type": "code",
   "execution_count": null,
   "metadata": {},
   "outputs": [],
   "source": [
    "len(words)"
   ]
  },
  {
   "cell_type": "code",
   "execution_count": null,
   "metadata": {},
   "outputs": [],
   "source": [
    "# build the vocabulary of characters and mappings to/from integers\n",
    "chars = sorted(list(set(\"\".join(words))))\n",
    "STOI, ITOS = tokens_to_int_mapping(chars)\n",
    "\n",
    "print(ITOS)"
   ]
  },
  {
   "cell_type": "code",
   "execution_count": null,
   "metadata": {},
   "outputs": [],
   "source": [
    "random.seed(42)\n",
    "\n",
    "random.shuffle(words)\n",
    "n1 = int(0.8 * len(words))\n",
    "n2 = int(0.9 * len(words))\n",
    "\n",
    "train_dataset = WordTokensDataset(words[:n1], BLOCK_SIZE, STOI)\n",
    "validation_dataset = WordTokensDataset(words[n1:n2], BLOCK_SIZE, STOI)\n",
    "test_dataset = WordTokensDataset(words[n2:], BLOCK_SIZE, STOI)"
   ]
  },
  {
   "cell_type": "code",
   "execution_count": null,
   "metadata": {},
   "outputs": [],
   "source": [
    "train_dataset.X.shape, train_dataset.Y.shape"
   ]
  },
  {
   "cell_type": "code",
   "execution_count": null,
   "metadata": {},
   "outputs": [],
   "source": [
    "model = WordTokenModel(\n",
    "    token_count=len(STOI),\n",
    "    block_size=BLOCK_SIZE,\n",
    "    embedding_layer_size=5,\n",
    "    hidden_layer_size=100,\n",
    "    generator=torch.Generator().manual_seed(2147483647),\n",
    ").to(device)"
   ]
  },
  {
   "cell_type": "code",
   "execution_count": null,
   "metadata": {},
   "outputs": [],
   "source": [
    "batch_size = 32\n",
    "epochs = 20\n",
    "\n",
    "batches_by_epoch = len(train_dataset) // batch_size\n",
    "optimizer = StepBasedLrGDOptimizer(\n",
    "    model.parameters(),\n",
    "    max_step_to_lr=[\n",
    "        (batches_by_epoch * epochs * 0.5, 0.1),\n",
    "        (batches_by_epoch * epochs * 0.75, 0.01),\n",
    "        (None, 0.001),\n",
    "    ],\n",
    ")\n",
    "\n",
    "stats_df = train_model_simple(\n",
    "    model,\n",
    "    dataset=train_dataset,\n",
    "    optimizer=optimizer,\n",
    "    epochs=epochs,\n",
    "    batch_size=batch_size,\n",
    "    device=device,\n",
    ")"
   ]
  },
  {
   "cell_type": "code",
   "execution_count": null,
   "metadata": {},
   "outputs": [],
   "source": [
    "plt.plot(stats_df[\"step\"], np.log10(stats_df[\"loss\"]))"
   ]
  },
  {
   "cell_type": "code",
   "execution_count": null,
   "metadata": {},
   "outputs": [],
   "source": [
    "training_loss = calculate_loss(model, train_dataset, F.cross_entropy, device)\n",
    "validation_loss = calculate_loss(model, validation_dataset, F.cross_entropy, device)\n",
    "print(f\"{training_loss = :4f}, {validation_loss = :4f}\")"
   ]
  },
  {
   "cell_type": "code",
   "execution_count": null,
   "metadata": {},
   "outputs": [],
   "source": [
    "plot_embeddings(model.C, ITOS)"
   ]
  },
  {
   "cell_type": "code",
   "execution_count": null,
   "metadata": {},
   "outputs": [],
   "source": [
    "# sample from the model\n",
    "g = torch.Generator(device).manual_seed(2147483647 + 10)\n",
    "\n",
    "for _ in range(20):\n",
    "    s = sample_from_model(\n",
    "        model,\n",
    "        block_size=BLOCK_SIZE,\n",
    "        device=device,\n",
    "        itos=ITOS,\n",
    "        generator=g,\n",
    "    )\n",
    "    print(s)"
   ]
  },
  {
   "cell_type": "code",
   "execution_count": null,
   "metadata": {},
   "outputs": [],
   "source": []
  }
 ],
 "metadata": {
  "kernelspec": {
   "display_name": "Python 3",
   "language": "python",
   "name": "python3"
  },
  "language_info": {
   "codemirror_mode": {
    "name": "ipython",
    "version": 3
   },
   "file_extension": ".py",
   "mimetype": "text/x-python",
   "name": "python",
   "nbconvert_exporter": "python",
   "pygments_lexer": "ipython3",
   "version": "3.11.5"
  }
 },
 "nbformat": 4,
 "nbformat_minor": 4
}
